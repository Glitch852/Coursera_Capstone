{
    "cells": [
        {
            "metadata": {
                "collapsed": true
            },
            "cell_type": "markdown",
            "source": "<a href=\"https://cognitiveclass.ai\"><img src = \"https://ibm.box.com/shared/static/9gegpsmnsoo25ikkbl4qzlvlyjbgxs5x.png\" width = 400> </a>\n<br>\n<h1 align=center><font size = 5>IBM Data Science Capstone - Eugene Bible</font></h1>"
        },
        {
            "metadata": {},
            "cell_type": "markdown",
            "source": "# Introduction\n\nThis is the Jupyter Notebook to be used for the IBM Data Science Professional Certificate course by Coursera. \n\nIn this Jupyter notebook, neighborhoods in the city of Toronto will be explored, segmented, and clustered. \nFirst, the data will be scraped from the Wikipedia page and be wrangled, cleaned, and then read into a pandas dataframe in a structured format. Once structured, the neighborhoods in Toronoto will be explored and clustered.\n\nAuthor: Eugene Bible"
        },
        {
            "metadata": {},
            "cell_type": "markdown",
            "source": "## Table of Contents\n<div class=\"alert alert-block alert-info\" style=\"margin-top: 20px\">\n<font size = 3>\n\n[1. Segmenting and Clustering Neighborhoods in Toronto](#1.-Segmenting-and-Clustering-Neighborhoods-in-Toronto) <br>\n[2. The Battle of Neighborhoods - Part 1](#2.-The-Battle-of-Neighborhoods-\\--Part-1)<br>\n[3. The Battle of Neighborhoods - Part 2](#3.-The-Battle-of-Neighborhoods-\\--Part-2)\n\n\n</font>\n</div>"
        },
        {
            "metadata": {},
            "cell_type": "markdown",
            "source": "Import the necessary libraries:"
        },
        {
            "metadata": {},
            "cell_type": "code",
            "source": "import urllib.request,urllib.parse,urllib.error # Library to parse websites\nfrom bs4 import BeautifulSoup # Library to handle web scraping\n\nimport numpy as np # library to handle data in a vectorized manner\n\nimport pandas as pd # library for data analsysis\npd.set_option('display.max_columns', None)\npd.set_option('display.max_rows', None)\n\n#!conda install -c conda-forge geocoder --yes\nimport geocoder # import geocoder for getting lat/lon\n\nfrom geopy.geocoders import Nominatim # convert an address into latitude and longitude values",
            "execution_count": 7,
            "outputs": []
        },
        {
            "metadata": {},
            "cell_type": "markdown",
            "source": "# 1. Segmenting and Clustering Neighborhoods in Toronto"
        },
        {
            "metadata": {},
            "cell_type": "markdown",
            "source": "## Part 1.1 - Scraping the Data and Creating the Dataframe"
        },
        {
            "metadata": {},
            "cell_type": "markdown",
            "source": "### Scrape the Wikipedia page to obtain the table of postal codes/boroughs/neighborhoods"
        },
        {
            "metadata": {},
            "cell_type": "markdown",
            "source": "Page found at: https://en.wikipedia.org/wiki/List_of_postal_codes_of_Canada:_M"
        },
        {
            "metadata": {},
            "cell_type": "code",
            "source": "# Define the URL of the webpage to scrape\nurl = 'https://en.wikipedia.org/wiki/List_of_postal_codes_of_Canada:_M'\n# Get HTML\nhtml = urllib.request.urlopen(url).read()\n#print(html)\n\n# Use BeautifulSoup to parse the html\nsoup = BeautifulSoup(html, 'html.parser')\n#print(soup.prettify())\n\n# Parse the table only and pull all rows\ntable = soup.find('table')\n#print(table.prettify())",
            "execution_count": 8,
            "outputs": []
        },
        {
            "metadata": {},
            "cell_type": "markdown",
            "source": "### Transform the table into a Pandas Dataframe\nRequirements:\n- The dataframe will consist of three columns: PostalCode, Borough, and Neighborhood\n- Only process the cells that have an assigned borough. Ignore cells with a borough that is Not assigned.\n- More than one neighborhood can exist in one postal code area. For example, in the table on the Wikipedia page, you will notice that M5A is listed twice and has two neighborhoods: Harbourfront and Regent Park. These two rows will be combined into one row with the neighborhoods separated with a comma as shown in row 11 in the above table.\n- If a cell has a borough but a Not assigned neighborhood, then the neighborhood will be the same as the borough. So for the 9th cell in the table on the Wikipedia page, the value of the Borough and the Neighborhood columns will be Queen's Park.\n- Clean your Notebook and add Markdown cells to explain your work and any assumptions you are making.\n- In the last cell of your notebook, use the .shape method to print the number of rows of your dataframe."
        },
        {
            "metadata": {
                "scrolled": true
            },
            "cell_type": "code",
            "source": "# Scraping the rows of the table\ntable_rows = table.find_all('tr')\n\nrows = []\nfor tr in table_rows:\n    #print('count = ' + str(count))\n    th = tr.find_all('th') # Grab header\n    td = tr.find_all('td') # Grab row\n    if th:\n        row = [th.text.rstrip() for th in th]\n        rows.append(row)\n    else:\n        row = [tr.text.rstrip() for tr in td]\n        if row[1] == 'Not assigned': continue # If no borough, don't keep the row\n        if row[2] == 'Not assigned': row[2] = row[1] # If neighborhood is not assigned, set it to the Borough\n        rows.append(row)  \n            \n# Assign list of rows to a Pandas DF\nnhScraped_df = pd.DataFrame(rows)\n\n# Name the columns after the first row (headers) then drop the header row\nnhScraped_df.columns = nhScraped_df.iloc[0]\nnhScraped_df = nhScraped_df.drop(nhScraped_df.index[0])\nnhScraped_df.head(10)\n",
            "execution_count": 48,
            "outputs": [
                {
                    "output_type": "execute_result",
                    "execution_count": 48,
                    "data": {
                        "text/plain": "0  Postcode           Borough     Neighbourhood\n1       M3A        North York         Parkwoods\n2       M4A        North York  Victoria Village\n3       M5A  Downtown Toronto      Harbourfront\n4       M6A        North York  Lawrence Heights\n5       M6A        North York    Lawrence Manor\n6       M7A  Downtown Toronto      Queen's Park\n7       M9A      Queen's Park      Queen's Park\n8       M1B       Scarborough             Rouge\n9       M1B       Scarborough           Malvern\n10      M3B        North York   Don Mills North",
                        "text/html": "<div>\n<style scoped>\n    .dataframe tbody tr th:only-of-type {\n        vertical-align: middle;\n    }\n\n    .dataframe tbody tr th {\n        vertical-align: top;\n    }\n\n    .dataframe thead th {\n        text-align: right;\n    }\n</style>\n<table border=\"1\" class=\"dataframe\">\n  <thead>\n    <tr style=\"text-align: right;\">\n      <th></th>\n      <th>Postcode</th>\n      <th>Borough</th>\n      <th>Neighbourhood</th>\n    </tr>\n  </thead>\n  <tbody>\n    <tr>\n      <th>1</th>\n      <td>M3A</td>\n      <td>North York</td>\n      <td>Parkwoods</td>\n    </tr>\n    <tr>\n      <th>2</th>\n      <td>M4A</td>\n      <td>North York</td>\n      <td>Victoria Village</td>\n    </tr>\n    <tr>\n      <th>3</th>\n      <td>M5A</td>\n      <td>Downtown Toronto</td>\n      <td>Harbourfront</td>\n    </tr>\n    <tr>\n      <th>4</th>\n      <td>M6A</td>\n      <td>North York</td>\n      <td>Lawrence Heights</td>\n    </tr>\n    <tr>\n      <th>5</th>\n      <td>M6A</td>\n      <td>North York</td>\n      <td>Lawrence Manor</td>\n    </tr>\n    <tr>\n      <th>6</th>\n      <td>M7A</td>\n      <td>Downtown Toronto</td>\n      <td>Queen's Park</td>\n    </tr>\n    <tr>\n      <th>7</th>\n      <td>M9A</td>\n      <td>Queen's Park</td>\n      <td>Queen's Park</td>\n    </tr>\n    <tr>\n      <th>8</th>\n      <td>M1B</td>\n      <td>Scarborough</td>\n      <td>Rouge</td>\n    </tr>\n    <tr>\n      <th>9</th>\n      <td>M1B</td>\n      <td>Scarborough</td>\n      <td>Malvern</td>\n    </tr>\n    <tr>\n      <th>10</th>\n      <td>M3B</td>\n      <td>North York</td>\n      <td>Don Mills North</td>\n    </tr>\n  </tbody>\n</table>\n</div>"
                    },
                    "metadata": {}
                }
            ]
        },
        {
            "metadata": {},
            "cell_type": "code",
            "source": "# Let's check our counts of postal codes, boroughs, and neighborhoods.\n\nprint('The dataframe has {} postal codes, {} boroughs, and {} neighborhoods.'.format(\n        len(nhScraped_df['Postcode'].unique()),\n        len(nhScraped_df['Borough'].unique()),\n        len(nhScraped_df['Neighbourhood'].unique())\n    )\n)",
            "execution_count": 76,
            "outputs": [
                {
                    "output_type": "stream",
                    "text": "The dataframe has 103 postal codes, 11 boroughs, and 207 neighborhoods.\n",
                    "name": "stdout"
                }
            ]
        },
        {
            "metadata": {},
            "cell_type": "code",
            "source": "# Now that we have the 'Not Assigned' entries taken care of, need to combine the rows with the same Postcode but different neighborhoods\n\n# Use groupby to sort the list by Postcode\nnhGrouped_df = nhScraped_df.groupby(['Postcode','Borough'])\n#print(nhGrouped_df)\n\n# Print to check for proper sorting\nfor key, item in nhGrouped_df:\n    print(nhGrouped_df.get_group(key), \"\\n\\n\")",
            "execution_count": 78,
            "outputs": [
                {
                    "output_type": "stream",
                    "text": "0 Postcode      Borough Neighbourhood\n8      M1B  Scarborough         Rouge\n9      M1B  Scarborough       Malvern \n\n\n0  Postcode      Borough   Neighbourhood\n21      M1C  Scarborough  Highland Creek\n22      M1C  Scarborough      Rouge Hill\n23      M1C  Scarborough      Port Union \n\n\n0  Postcode      Borough Neighbourhood\n33      M1E  Scarborough     Guildwood\n34      M1E  Scarborough   Morningside\n35      M1E  Scarborough     West Hill \n\n\n0  Postcode      Borough Neighbourhood\n39      M1G  Scarborough        Woburn \n\n\n0  Postcode      Borough Neighbourhood\n43      M1H  Scarborough     Cedarbrae \n\n\n0  Postcode      Borough        Neighbourhood\n54      M1J  Scarborough  Scarborough Village \n\n\n0  Postcode      Borough         Neighbourhood\n66      M1K  Scarborough  East Birchmount Park\n67      M1K  Scarborough               Ionview\n68      M1K  Scarborough          Kennedy Park \n\n\n0  Postcode      Borough Neighbourhood\n79      M1L  Scarborough      Clairlea\n80      M1L  Scarborough   Golden Mile\n81      M1L  Scarborough      Oakridge \n\n\n0  Postcode      Borough             Neighbourhood\n93      M1M  Scarborough                Cliffcrest\n94      M1M  Scarborough                 Cliffside\n95      M1M  Scarborough  Scarborough Village West \n\n\n0   Postcode      Borough   Neighbourhood\n108      M1N  Scarborough     Birch Cliff\n109      M1N  Scarborough  Cliffside West \n\n\n0   Postcode      Borough            Neighbourhood\n117      M1P  Scarborough              Dorset Park\n118      M1P  Scarborough  Scarborough Town Centre\n119      M1P  Scarborough          Wexford Heights \n\n\n0   Postcode      Borough Neighbourhood\n127      M1R  Scarborough      Maryvale\n128      M1R  Scarborough       Wexford \n\n\n0   Postcode      Borough Neighbourhood\n141      M1S  Scarborough     Agincourt \n\n\n0   Postcode      Borough   Neighbourhood\n147      M1T  Scarborough  Clarks Corners\n148      M1T  Scarborough        Sullivan\n149      M1T  Scarborough   Tam O'Shanter \n\n\n0   Postcode      Borough    Neighbourhood\n155      M1V  Scarborough  Agincourt North\n156      M1V  Scarborough  L'Amoreaux East\n157      M1V  Scarborough         Milliken\n158      M1V  Scarborough     Steeles East \n\n\n0   Postcode      Borough    Neighbourhood\n182      M1W  Scarborough  L'Amoreaux West \n\n\n0   Postcode      Borough Neighbourhood\n188      M1X  Scarborough   Upper Rouge \n\n\n0  Postcode     Borough      Neighbourhood\n44      M2H  North York  Hillcrest Village \n\n\n0  Postcode     Borough Neighbourhood\n55      M2J  North York      Fairview\n56      M2J  North York    Henry Farm\n57      M2J  North York        Oriole \n\n\n0  Postcode     Borough    Neighbourhood\n69      M2K  North York  Bayview Village \n\n\n0  Postcode     Borough Neighbourhood\n82      M2L  North York  Silver Hills\n83      M2L  North York    York Mills \n\n\n0  Postcode     Borough Neighbourhood\n96      M2M  North York   Newtonbrook\n97      M2M  North York    Willowdale \n\n\n0   Postcode     Borough     Neighbourhood\n110      M2N  North York  Willowdale South \n\n\n0   Postcode     Borough    Neighbourhood\n120      M2P  North York  York Mills West \n\n\n0   Postcode     Borough    Neighbourhood\n129      M2R  North York  Willowdale West \n\n\n0 Postcode     Borough Neighbourhood\n1      M3A  North York     Parkwoods \n\n\n0  Postcode     Borough    Neighbourhood\n10      M3B  North York  Don Mills North \n\n\n0  Postcode     Borough    Neighbourhood\n24      M3C  North York  Flemingdon Park\n25      M3C  North York  Don Mills South \n\n\n0  Postcode     Borough    Neighbourhood\n45      M3H  North York   Bathurst Manor\n46      M3H  North York  Downsview North\n47      M3H  North York   Wilson Heights \n\n\n0  Postcode     Borough    Neighbourhood\n58      M3J  North York   Northwood Park\n59      M3J  North York  York University \n\n\n0  Postcode     Borough   Neighbourhood\n70      M3K  North York     CFB Toronto\n71      M3K  North York  Downsview East \n\n\n0  Postcode     Borough   Neighbourhood\n84      M3L  North York  Downsview West \n\n\n0  Postcode     Borough      Neighbourhood\n98      M3M  North York  Downsview Central \n\n\n0   Postcode     Borough        Neighbourhood\n111      M3N  North York  Downsview Northwest \n\n\n0 Postcode     Borough     Neighbourhood\n2      M4A  North York  Victoria Village \n\n\n0  Postcode    Borough     Neighbourhood\n11      M4B  East York  Woodbine Gardens\n12      M4B  East York     Parkview Hill \n\n\n0  Postcode    Borough     Neighbourhood\n26      M4C  East York  Woodbine Heights \n\n\n0  Postcode       Borough Neighbourhood\n36      M4E  East Toronto   The Beaches \n\n\n0  Postcode    Borough Neighbourhood\n40      M4G  East York       Leaside \n\n\n0  Postcode    Borough     Neighbourhood\n48      M4H  East York  Thorncliffe Park \n\n\n0  Postcode    Borough Neighbourhood\n60      M4J  East York  East Toronto \n\n\n0  Postcode       Borough      Neighbourhood\n72      M4K  East Toronto  The Danforth West\n73      M4K  East Toronto          Riverdale \n\n\n0  Postcode       Borough     Neighbourhood\n85      M4L  East Toronto  The Beaches West\n86      M4L  East Toronto      India Bazaar \n\n\n0  Postcode       Borough    Neighbourhood\n99      M4M  East Toronto  Studio District \n\n\n0   Postcode          Borough  Neighbourhood\n112      M4N  Central Toronto  Lawrence Park \n\n\n0   Postcode          Borough     Neighbourhood\n121      M4P  Central Toronto  Davisville North \n\n\n0   Postcode          Borough       Neighbourhood\n130      M4R  Central Toronto  North Toronto West \n\n\n0   Postcode          Borough Neighbourhood\n142      M4S  Central Toronto    Davisville \n\n\n0   Postcode          Borough    Neighbourhood\n150      M4T  Central Toronto       Moore Park\n151      M4T  Central Toronto  Summerhill East \n\n\n0   Postcode          Borough    Neighbourhood\n159      M4V  Central Toronto        Deer Park\n160      M4V  Central Toronto   Forest Hill SE\n161      M4V  Central Toronto        Rathnelly\n162      M4V  Central Toronto       South Hill\n163      M4V  Central Toronto  Summerhill West \n\n\n0   Postcode           Borough Neighbourhood\n183      M4W  Downtown Toronto      Rosedale \n\n\n0   Postcode           Borough   Neighbourhood\n189      M4X  Downtown Toronto     Cabbagetown\n190      M4X  Downtown Toronto  St. James Town \n\n\n0   Postcode           Borough         Neighbourhood\n196      M4Y  Downtown Toronto  Church and Wellesley \n\n\n0 Postcode           Borough Neighbourhood\n3      M5A  Downtown Toronto  Harbourfront \n\n\n0  Postcode           Borough    Neighbourhood\n13      M5B  Downtown Toronto          Ryerson\n14      M5B  Downtown Toronto  Garden District \n\n\n0  Postcode           Borough   Neighbourhood\n27      M5C  Downtown Toronto  St. James Town \n\n\n0  Postcode           Borough Neighbourhood\n37      M5E  Downtown Toronto   Berczy Park \n\n\n0  Postcode           Borough       Neighbourhood\n41      M5G  Downtown Toronto  Central Bay Street \n\n\n0  Postcode           Borough Neighbourhood\n49      M5H  Downtown Toronto      Adelaide\n50      M5H  Downtown Toronto          King\n51      M5H  Downtown Toronto      Richmond \n\n\n0  Postcode           Borough      Neighbourhood\n61      M5J  Downtown Toronto  Harbourfront East\n62      M5J  Downtown Toronto    Toronto Islands\n63      M5J  Downtown Toronto      Union Station \n\n\n0  Postcode           Borough            Neighbourhood\n74      M5K  Downtown Toronto          Design Exchange\n75      M5K  Downtown Toronto  Toronto Dominion Centre \n\n\n0  Postcode           Borough   Neighbourhood\n87      M5L  Downtown Toronto  Commerce Court\n88      M5L  Downtown Toronto  Victoria Hotel \n\n\n0   Postcode     Borough        Neighbourhood\n100      M5M  North York         Bedford Park\n101      M5M  North York  Lawrence Manor East \n\n\n0   Postcode          Borough Neighbourhood\n113      M5N  Central Toronto      Roselawn \n\n\n0   Postcode          Borough      Neighbourhood\n122      M5P  Central Toronto  Forest Hill North\n123      M5P  Central Toronto   Forest Hill West \n\n\n0   Postcode          Borough  Neighbourhood\n131      M5R  Central Toronto      The Annex\n132      M5R  Central Toronto  North Midtown\n133      M5R  Central Toronto      Yorkville \n\n\n0   Postcode           Borough          Neighbourhood\n143      M5S  Downtown Toronto                Harbord\n144      M5S  Downtown Toronto  University of Toronto \n\n\n0   Postcode           Borough      Neighbourhood\n152      M5T  Downtown Toronto          Chinatown\n153      M5T  Downtown Toronto        Grange Park\n154      M5T  Downtown Toronto  Kensington Market \n\n\n0   Postcode           Borough      Neighbourhood\n164      M5V  Downtown Toronto           CN Tower\n165      M5V  Downtown Toronto      Bathurst Quay\n166      M5V  Downtown Toronto     Island airport\n167      M5V  Downtown Toronto  Harbourfront West\n168      M5V  Downtown Toronto   King and Spadina\n169      M5V  Downtown Toronto      Railway Lands\n170      M5V  Downtown Toronto      South Niagara \n\n\n0   Postcode           Borough                    Neighbourhood\n184      M5W  Downtown Toronto  Stn A PO Boxes 25 The Esplanade \n\n\n0   Postcode           Borough         Neighbourhood\n191      M5X  Downtown Toronto  First Canadian Place\n192      M5X  Downtown Toronto      Underground city \n\n\n0 Postcode     Borough     Neighbourhood\n4      M6A  North York  Lawrence Heights\n5      M6A  North York    Lawrence Manor \n\n\n0  Postcode     Borough Neighbourhood\n15      M6B  North York     Glencairn \n\n\n0  Postcode Borough       Neighbourhood\n28      M6C    York  Humewood-Cedarvale \n\n\n0  Postcode Borough        Neighbourhood\n38      M6E    York  Caledonia-Fairbanks \n\n\n0  Postcode           Borough Neighbourhood\n42      M6G  Downtown Toronto      Christie \n\n\n0  Postcode       Borough       Neighbourhood\n52      M6H  West Toronto  Dovercourt Village\n53      M6H  West Toronto            Dufferin \n\n\n0  Postcode       Borough    Neighbourhood\n64      M6J  West Toronto  Little Portugal\n65      M6J  West Toronto          Trinity \n\n\n0  Postcode       Borough     Neighbourhood\n76      M6K  West Toronto          Brockton\n77      M6K  West Toronto  Exhibition Place\n78      M6K  West Toronto  Parkdale Village \n\n\n0  Postcode     Borough Neighbourhood\n89      M6L  North York     Downsview\n90      M6L  North York    North Park\n91      M6L  North York   Upwood Park \n\n\n0   Postcode Borough Neighbourhood\n102      M6M    York       Del Ray\n103      M6M    York    Keelesdale\n104      M6M    York  Mount Dennis\n105      M6M    York   Silverthorn \n\n\n0   Postcode Borough       Neighbourhood\n114      M6N    York  The Junction North\n115      M6N    York           Runnymede \n\n\n0   Postcode       Borough       Neighbourhood\n124      M6P  West Toronto           High Park\n125      M6P  West Toronto  The Junction South \n\n\n0   Postcode       Borough Neighbourhood\n134      M6R  West Toronto      Parkdale\n135      M6R  West Toronto  Roncesvalles \n\n\n0   Postcode       Borough Neighbourhood\n145      M6S  West Toronto     Runnymede\n146      M6S  West Toronto       Swansea \n\n\n0 Postcode           Borough Neighbourhood\n6      M7A  Downtown Toronto  Queen's Park \n\n\n0   Postcode      Borough                          Neighbourhood\n136      M7R  Mississauga  Canada Post Gateway Processing Centre \n\n\n0   Postcode       Borough                                      Neighbourhood\n197      M7Y  East Toronto  Business Reply Mail Processing Centre 969 Eastern \n\n\n0   Postcode    Borough      Neighbourhood\n171      M8V  Etobicoke  Humber Bay Shores\n172      M8V  Etobicoke       Mimico South\n173      M8V  Etobicoke        New Toronto \n\n\n0   Postcode    Borough Neighbourhood\n185      M8W  Etobicoke     Alderwood\n186      M8W  Etobicoke   Long Branch \n\n\n0   Postcode    Borough    Neighbourhood\n193      M8X  Etobicoke     The Kingsway\n194      M8X  Etobicoke  Montgomery Road\n195      M8X  Etobicoke   Old Mill North \n\n\n0   Postcode    Borough             Neighbourhood\n198      M8Y  Etobicoke                Humber Bay\n199      M8Y  Etobicoke          King's Mill Park\n200      M8Y  Etobicoke  Kingsway Park South East\n201      M8Y  Etobicoke                 Mimico NE\n202      M8Y  Etobicoke            Old Mill South\n203      M8Y  Etobicoke        The Queensway East\n204      M8Y  Etobicoke     Royal York South East\n205      M8Y  Etobicoke                  Sunnylea \n\n\n0   Postcode    Borough             Neighbourhood\n206      M8Z  Etobicoke  Kingsway Park South West\n207      M8Z  Etobicoke                 Mimico NW\n208      M8Z  Etobicoke        The Queensway West\n209      M8Z  Etobicoke     Royal York South West\n210      M8Z  Etobicoke            South of Bloor \n\n\n0 Postcode       Borough Neighbourhood\n7      M9A  Queen's Park  Queen's Park \n\n\n0  Postcode    Borough     Neighbourhood\n16      M9B  Etobicoke        Cloverdale\n17      M9B  Etobicoke         Islington\n18      M9B  Etobicoke      Martin Grove\n19      M9B  Etobicoke  Princess Gardens\n20      M9B  Etobicoke   West Deane Park \n\n\n0  Postcode    Borough      Neighbourhood\n29      M9C  Etobicoke  Bloordale Gardens\n30      M9C  Etobicoke           Eringate\n31      M9C  Etobicoke      Markland Wood\n32      M9C  Etobicoke  Old Burnhamthorpe \n\n\n0  Postcode     Borough  Neighbourhood\n92      M9L  North York  Humber Summit \n\n\n0   Postcode     Borough Neighbourhood\n106      M9M  North York         Emery\n107      M9M  North York     Humberlea \n\n\n0   Postcode Borough Neighbourhood\n116      M9N    York        Weston \n\n\n0   Postcode    Borough Neighbourhood\n126      M9P  Etobicoke     Westmount \n\n\n0   Postcode    Borough         Neighbourhood\n137      M9R  Etobicoke     Kingsview Village\n138      M9R  Etobicoke  Martin Grove Gardens\n139      M9R  Etobicoke      Richview Gardens\n140      M9R  Etobicoke          St. Phillips \n\n\n0   Postcode    Borough     Neighbourhood\n174      M9V  Etobicoke    Albion Gardens\n175      M9V  Etobicoke  Beaumond Heights\n176      M9V  Etobicoke        Humbergate\n177      M9V  Etobicoke         Jamestown\n178      M9V  Etobicoke       Mount Olive\n179      M9V  Etobicoke       Silverstone\n180      M9V  Etobicoke     South Steeles\n181      M9V  Etobicoke       Thistletown \n\n\n0   Postcode    Borough Neighbourhood\n187      M9W  Etobicoke     Northwest \n\n\n",
                    "name": "stdout"
                }
            ]
        },
        {
            "metadata": {},
            "cell_type": "code",
            "source": "# Join neighborhoods of the grouped entries (i.e. the groups with the same postcode), separated by commas\nnhJoined_df = nhGrouped_df['Neighbourhood'].apply(', '.join)\n\nnhJoined_df = nhJoined_df.reset_index()\n\nnhJoined_df.head(20)",
            "execution_count": 80,
            "outputs": [
                {
                    "output_type": "execute_result",
                    "execution_count": 80,
                    "data": {
                        "text/plain": "   Postcode      Borough                                      Neighbourhood\n0       M1B  Scarborough                                     Rouge, Malvern\n1       M1C  Scarborough             Highland Creek, Rouge Hill, Port Union\n2       M1E  Scarborough                  Guildwood, Morningside, West Hill\n3       M1G  Scarborough                                             Woburn\n4       M1H  Scarborough                                          Cedarbrae\n5       M1J  Scarborough                                Scarborough Village\n6       M1K  Scarborough        East Birchmount Park, Ionview, Kennedy Park\n7       M1L  Scarborough                    Clairlea, Golden Mile, Oakridge\n8       M1M  Scarborough    Cliffcrest, Cliffside, Scarborough Village West\n9       M1N  Scarborough                        Birch Cliff, Cliffside West\n10      M1P  Scarborough  Dorset Park, Scarborough Town Centre, Wexford ...\n11      M1R  Scarborough                                  Maryvale, Wexford\n12      M1S  Scarborough                                          Agincourt\n13      M1T  Scarborough            Clarks Corners, Sullivan, Tam O'Shanter\n14      M1V  Scarborough  Agincourt North, L'Amoreaux East, Milliken, St...\n15      M1W  Scarborough                                    L'Amoreaux West\n16      M1X  Scarborough                                        Upper Rouge\n17      M2H   North York                                  Hillcrest Village\n18      M2J   North York                       Fairview, Henry Farm, Oriole\n19      M2K   North York                                    Bayview Village",
                        "text/html": "<div>\n<style scoped>\n    .dataframe tbody tr th:only-of-type {\n        vertical-align: middle;\n    }\n\n    .dataframe tbody tr th {\n        vertical-align: top;\n    }\n\n    .dataframe thead th {\n        text-align: right;\n    }\n</style>\n<table border=\"1\" class=\"dataframe\">\n  <thead>\n    <tr style=\"text-align: right;\">\n      <th></th>\n      <th>Postcode</th>\n      <th>Borough</th>\n      <th>Neighbourhood</th>\n    </tr>\n  </thead>\n  <tbody>\n    <tr>\n      <th>0</th>\n      <td>M1B</td>\n      <td>Scarborough</td>\n      <td>Rouge, Malvern</td>\n    </tr>\n    <tr>\n      <th>1</th>\n      <td>M1C</td>\n      <td>Scarborough</td>\n      <td>Highland Creek, Rouge Hill, Port Union</td>\n    </tr>\n    <tr>\n      <th>2</th>\n      <td>M1E</td>\n      <td>Scarborough</td>\n      <td>Guildwood, Morningside, West Hill</td>\n    </tr>\n    <tr>\n      <th>3</th>\n      <td>M1G</td>\n      <td>Scarborough</td>\n      <td>Woburn</td>\n    </tr>\n    <tr>\n      <th>4</th>\n      <td>M1H</td>\n      <td>Scarborough</td>\n      <td>Cedarbrae</td>\n    </tr>\n    <tr>\n      <th>5</th>\n      <td>M1J</td>\n      <td>Scarborough</td>\n      <td>Scarborough Village</td>\n    </tr>\n    <tr>\n      <th>6</th>\n      <td>M1K</td>\n      <td>Scarborough</td>\n      <td>East Birchmount Park, Ionview, Kennedy Park</td>\n    </tr>\n    <tr>\n      <th>7</th>\n      <td>M1L</td>\n      <td>Scarborough</td>\n      <td>Clairlea, Golden Mile, Oakridge</td>\n    </tr>\n    <tr>\n      <th>8</th>\n      <td>M1M</td>\n      <td>Scarborough</td>\n      <td>Cliffcrest, Cliffside, Scarborough Village West</td>\n    </tr>\n    <tr>\n      <th>9</th>\n      <td>M1N</td>\n      <td>Scarborough</td>\n      <td>Birch Cliff, Cliffside West</td>\n    </tr>\n    <tr>\n      <th>10</th>\n      <td>M1P</td>\n      <td>Scarborough</td>\n      <td>Dorset Park, Scarborough Town Centre, Wexford ...</td>\n    </tr>\n    <tr>\n      <th>11</th>\n      <td>M1R</td>\n      <td>Scarborough</td>\n      <td>Maryvale, Wexford</td>\n    </tr>\n    <tr>\n      <th>12</th>\n      <td>M1S</td>\n      <td>Scarborough</td>\n      <td>Agincourt</td>\n    </tr>\n    <tr>\n      <th>13</th>\n      <td>M1T</td>\n      <td>Scarborough</td>\n      <td>Clarks Corners, Sullivan, Tam O'Shanter</td>\n    </tr>\n    <tr>\n      <th>14</th>\n      <td>M1V</td>\n      <td>Scarborough</td>\n      <td>Agincourt North, L'Amoreaux East, Milliken, St...</td>\n    </tr>\n    <tr>\n      <th>15</th>\n      <td>M1W</td>\n      <td>Scarborough</td>\n      <td>L'Amoreaux West</td>\n    </tr>\n    <tr>\n      <th>16</th>\n      <td>M1X</td>\n      <td>Scarborough</td>\n      <td>Upper Rouge</td>\n    </tr>\n    <tr>\n      <th>17</th>\n      <td>M2H</td>\n      <td>North York</td>\n      <td>Hillcrest Village</td>\n    </tr>\n    <tr>\n      <th>18</th>\n      <td>M2J</td>\n      <td>North York</td>\n      <td>Fairview, Henry Farm, Oriole</td>\n    </tr>\n    <tr>\n      <th>19</th>\n      <td>M2K</td>\n      <td>North York</td>\n      <td>Bayview Village</td>\n    </tr>\n  </tbody>\n</table>\n</div>"
                    },
                    "metadata": {}
                }
            ]
        },
        {
            "metadata": {
                "scrolled": true
            },
            "cell_type": "code",
            "source": "# Check the number of rows in our df, should still have 103 postal codes, meaning 103 rows now.\nnhJoined_df.shape",
            "execution_count": 82,
            "outputs": [
                {
                    "output_type": "execute_result",
                    "execution_count": 82,
                    "data": {
                        "text/plain": "(103, 3)"
                    },
                    "metadata": {}
                }
            ]
        },
        {
            "metadata": {},
            "cell_type": "markdown",
            "source": "### Getting latitude and longitude for each neighborhood\nNow that we have a dataframe of the postal codes of each neighborhood, borough name, and neighborhood name, to utilize the Foursquare location data, we need to get the latitude and the longitude coordinates of each neighborhood."
        },
        {
            "metadata": {},
            "cell_type": "code",
            "source": "## Using Python's built-in geocode NOTE: TOO UNRELIABLE. USED THE GEOSPATIAL_DATA PAGE PROVIDED BY INSTRUCTOR.\n#\n## initialize your variable to None\n#lat_lng_coords = None\n#\n#address = 'M1J Scarborough Scarborough Village'\n#geolocator = Nominatim(user_agent=\"EB_explores_canada\")\n#\n#while(lat_lng_coords is None):\n#    lat_lng_coords = geolocator.geocode(address)\n#\n#print(lat_lng_coords)\n#    \n#nlat = lat_lng_coords.latitude\n#nlon = lat_lng_coords.longitude\n#\n#\n#print(nlat, nlon)",
            "execution_count": 84,
            "outputs": []
        },
        {
            "metadata": {},
            "cell_type": "markdown",
            "source": "Note: Package was too unreliable to get all lat/lon values. Used the CSV file that has the geographical coordinates of each postal code: http://cocl.us/Geospatial_data"
        },
        {
            "metadata": {},
            "cell_type": "code",
            "source": "url = 'http://cocl.us/Geospatial_data'\nresponse = urllib.request.urlopen(url)\nlatlng_df = pd.read_csv(response)\n\n\nlatlng_df.head()",
            "execution_count": 85,
            "outputs": [
                {
                    "output_type": "execute_result",
                    "execution_count": 85,
                    "data": {
                        "text/plain": "  Postal Code   Latitude  Longitude\n0         M1B  43.806686 -79.194353\n1         M1C  43.784535 -79.160497\n2         M1E  43.763573 -79.188711\n3         M1G  43.770992 -79.216917\n4         M1H  43.773136 -79.239476",
                        "text/html": "<div>\n<style scoped>\n    .dataframe tbody tr th:only-of-type {\n        vertical-align: middle;\n    }\n\n    .dataframe tbody tr th {\n        vertical-align: top;\n    }\n\n    .dataframe thead th {\n        text-align: right;\n    }\n</style>\n<table border=\"1\" class=\"dataframe\">\n  <thead>\n    <tr style=\"text-align: right;\">\n      <th></th>\n      <th>Postal Code</th>\n      <th>Latitude</th>\n      <th>Longitude</th>\n    </tr>\n  </thead>\n  <tbody>\n    <tr>\n      <th>0</th>\n      <td>M1B</td>\n      <td>43.806686</td>\n      <td>-79.194353</td>\n    </tr>\n    <tr>\n      <th>1</th>\n      <td>M1C</td>\n      <td>43.784535</td>\n      <td>-79.160497</td>\n    </tr>\n    <tr>\n      <th>2</th>\n      <td>M1E</td>\n      <td>43.763573</td>\n      <td>-79.188711</td>\n    </tr>\n    <tr>\n      <th>3</th>\n      <td>M1G</td>\n      <td>43.770992</td>\n      <td>-79.216917</td>\n    </tr>\n    <tr>\n      <th>4</th>\n      <td>M1H</td>\n      <td>43.773136</td>\n      <td>-79.239476</td>\n    </tr>\n  </tbody>\n</table>\n</div>"
                    },
                    "metadata": {}
                }
            ]
        },
        {
            "metadata": {},
            "cell_type": "code",
            "source": "# Change column name so both dataframes have the same column name\nlatlng_df.rename(columns={'Postal Code': 'Postcode'}, inplace=True)\nlatlng_df.head()",
            "execution_count": 86,
            "outputs": [
                {
                    "output_type": "execute_result",
                    "execution_count": 86,
                    "data": {
                        "text/plain": "  Postcode   Latitude  Longitude\n0      M1B  43.806686 -79.194353\n1      M1C  43.784535 -79.160497\n2      M1E  43.763573 -79.188711\n3      M1G  43.770992 -79.216917\n4      M1H  43.773136 -79.239476",
                        "text/html": "<div>\n<style scoped>\n    .dataframe tbody tr th:only-of-type {\n        vertical-align: middle;\n    }\n\n    .dataframe tbody tr th {\n        vertical-align: top;\n    }\n\n    .dataframe thead th {\n        text-align: right;\n    }\n</style>\n<table border=\"1\" class=\"dataframe\">\n  <thead>\n    <tr style=\"text-align: right;\">\n      <th></th>\n      <th>Postcode</th>\n      <th>Latitude</th>\n      <th>Longitude</th>\n    </tr>\n  </thead>\n  <tbody>\n    <tr>\n      <th>0</th>\n      <td>M1B</td>\n      <td>43.806686</td>\n      <td>-79.194353</td>\n    </tr>\n    <tr>\n      <th>1</th>\n      <td>M1C</td>\n      <td>43.784535</td>\n      <td>-79.160497</td>\n    </tr>\n    <tr>\n      <th>2</th>\n      <td>M1E</td>\n      <td>43.763573</td>\n      <td>-79.188711</td>\n    </tr>\n    <tr>\n      <th>3</th>\n      <td>M1G</td>\n      <td>43.770992</td>\n      <td>-79.216917</td>\n    </tr>\n    <tr>\n      <th>4</th>\n      <td>M1H</td>\n      <td>43.773136</td>\n      <td>-79.239476</td>\n    </tr>\n  </tbody>\n</table>\n</div>"
                    },
                    "metadata": {}
                }
            ]
        },
        {
            "metadata": {},
            "cell_type": "code",
            "source": "# Merge two Dataframes on column 'Postcode'\nneighborhoods_df = nhJoined_df.merge(latlng_df, on='Postcode')\n\nneighborhoods_df = neighborhoods_df.rename(columns={'Neighbourhood': 'Neighborhood'}) # Because I'm American. (Sorry.)\n\nneighborhoods_df.head(20)",
            "execution_count": 87,
            "outputs": [
                {
                    "output_type": "execute_result",
                    "execution_count": 87,
                    "data": {
                        "text/plain": "   Postcode      Borough                                       Neighborhood  \\\n0       M1B  Scarborough                                     Rouge, Malvern   \n1       M1C  Scarborough             Highland Creek, Rouge Hill, Port Union   \n2       M1E  Scarborough                  Guildwood, Morningside, West Hill   \n3       M1G  Scarborough                                             Woburn   \n4       M1H  Scarborough                                          Cedarbrae   \n5       M1J  Scarborough                                Scarborough Village   \n6       M1K  Scarborough        East Birchmount Park, Ionview, Kennedy Park   \n7       M1L  Scarborough                    Clairlea, Golden Mile, Oakridge   \n8       M1M  Scarborough    Cliffcrest, Cliffside, Scarborough Village West   \n9       M1N  Scarborough                        Birch Cliff, Cliffside West   \n10      M1P  Scarborough  Dorset Park, Scarborough Town Centre, Wexford ...   \n11      M1R  Scarborough                                  Maryvale, Wexford   \n12      M1S  Scarborough                                          Agincourt   \n13      M1T  Scarborough            Clarks Corners, Sullivan, Tam O'Shanter   \n14      M1V  Scarborough  Agincourt North, L'Amoreaux East, Milliken, St...   \n15      M1W  Scarborough                                    L'Amoreaux West   \n16      M1X  Scarborough                                        Upper Rouge   \n17      M2H   North York                                  Hillcrest Village   \n18      M2J   North York                       Fairview, Henry Farm, Oriole   \n19      M2K   North York                                    Bayview Village   \n\n     Latitude  Longitude  \n0   43.806686 -79.194353  \n1   43.784535 -79.160497  \n2   43.763573 -79.188711  \n3   43.770992 -79.216917  \n4   43.773136 -79.239476  \n5   43.744734 -79.239476  \n6   43.727929 -79.262029  \n7   43.711112 -79.284577  \n8   43.716316 -79.239476  \n9   43.692657 -79.264848  \n10  43.757410 -79.273304  \n11  43.750072 -79.295849  \n12  43.794200 -79.262029  \n13  43.781638 -79.304302  \n14  43.815252 -79.284577  \n15  43.799525 -79.318389  \n16  43.836125 -79.205636  \n17  43.803762 -79.363452  \n18  43.778517 -79.346556  \n19  43.786947 -79.385975  ",
                        "text/html": "<div>\n<style scoped>\n    .dataframe tbody tr th:only-of-type {\n        vertical-align: middle;\n    }\n\n    .dataframe tbody tr th {\n        vertical-align: top;\n    }\n\n    .dataframe thead th {\n        text-align: right;\n    }\n</style>\n<table border=\"1\" class=\"dataframe\">\n  <thead>\n    <tr style=\"text-align: right;\">\n      <th></th>\n      <th>Postcode</th>\n      <th>Borough</th>\n      <th>Neighborhood</th>\n      <th>Latitude</th>\n      <th>Longitude</th>\n    </tr>\n  </thead>\n  <tbody>\n    <tr>\n      <th>0</th>\n      <td>M1B</td>\n      <td>Scarborough</td>\n      <td>Rouge, Malvern</td>\n      <td>43.806686</td>\n      <td>-79.194353</td>\n    </tr>\n    <tr>\n      <th>1</th>\n      <td>M1C</td>\n      <td>Scarborough</td>\n      <td>Highland Creek, Rouge Hill, Port Union</td>\n      <td>43.784535</td>\n      <td>-79.160497</td>\n    </tr>\n    <tr>\n      <th>2</th>\n      <td>M1E</td>\n      <td>Scarborough</td>\n      <td>Guildwood, Morningside, West Hill</td>\n      <td>43.763573</td>\n      <td>-79.188711</td>\n    </tr>\n    <tr>\n      <th>3</th>\n      <td>M1G</td>\n      <td>Scarborough</td>\n      <td>Woburn</td>\n      <td>43.770992</td>\n      <td>-79.216917</td>\n    </tr>\n    <tr>\n      <th>4</th>\n      <td>M1H</td>\n      <td>Scarborough</td>\n      <td>Cedarbrae</td>\n      <td>43.773136</td>\n      <td>-79.239476</td>\n    </tr>\n    <tr>\n      <th>5</th>\n      <td>M1J</td>\n      <td>Scarborough</td>\n      <td>Scarborough Village</td>\n      <td>43.744734</td>\n      <td>-79.239476</td>\n    </tr>\n    <tr>\n      <th>6</th>\n      <td>M1K</td>\n      <td>Scarborough</td>\n      <td>East Birchmount Park, Ionview, Kennedy Park</td>\n      <td>43.727929</td>\n      <td>-79.262029</td>\n    </tr>\n    <tr>\n      <th>7</th>\n      <td>M1L</td>\n      <td>Scarborough</td>\n      <td>Clairlea, Golden Mile, Oakridge</td>\n      <td>43.711112</td>\n      <td>-79.284577</td>\n    </tr>\n    <tr>\n      <th>8</th>\n      <td>M1M</td>\n      <td>Scarborough</td>\n      <td>Cliffcrest, Cliffside, Scarborough Village West</td>\n      <td>43.716316</td>\n      <td>-79.239476</td>\n    </tr>\n    <tr>\n      <th>9</th>\n      <td>M1N</td>\n      <td>Scarborough</td>\n      <td>Birch Cliff, Cliffside West</td>\n      <td>43.692657</td>\n      <td>-79.264848</td>\n    </tr>\n    <tr>\n      <th>10</th>\n      <td>M1P</td>\n      <td>Scarborough</td>\n      <td>Dorset Park, Scarborough Town Centre, Wexford ...</td>\n      <td>43.757410</td>\n      <td>-79.273304</td>\n    </tr>\n    <tr>\n      <th>11</th>\n      <td>M1R</td>\n      <td>Scarborough</td>\n      <td>Maryvale, Wexford</td>\n      <td>43.750072</td>\n      <td>-79.295849</td>\n    </tr>\n    <tr>\n      <th>12</th>\n      <td>M1S</td>\n      <td>Scarborough</td>\n      <td>Agincourt</td>\n      <td>43.794200</td>\n      <td>-79.262029</td>\n    </tr>\n    <tr>\n      <th>13</th>\n      <td>M1T</td>\n      <td>Scarborough</td>\n      <td>Clarks Corners, Sullivan, Tam O'Shanter</td>\n      <td>43.781638</td>\n      <td>-79.304302</td>\n    </tr>\n    <tr>\n      <th>14</th>\n      <td>M1V</td>\n      <td>Scarborough</td>\n      <td>Agincourt North, L'Amoreaux East, Milliken, St...</td>\n      <td>43.815252</td>\n      <td>-79.284577</td>\n    </tr>\n    <tr>\n      <th>15</th>\n      <td>M1W</td>\n      <td>Scarborough</td>\n      <td>L'Amoreaux West</td>\n      <td>43.799525</td>\n      <td>-79.318389</td>\n    </tr>\n    <tr>\n      <th>16</th>\n      <td>M1X</td>\n      <td>Scarborough</td>\n      <td>Upper Rouge</td>\n      <td>43.836125</td>\n      <td>-79.205636</td>\n    </tr>\n    <tr>\n      <th>17</th>\n      <td>M2H</td>\n      <td>North York</td>\n      <td>Hillcrest Village</td>\n      <td>43.803762</td>\n      <td>-79.363452</td>\n    </tr>\n    <tr>\n      <th>18</th>\n      <td>M2J</td>\n      <td>North York</td>\n      <td>Fairview, Henry Farm, Oriole</td>\n      <td>43.778517</td>\n      <td>-79.346556</td>\n    </tr>\n    <tr>\n      <th>19</th>\n      <td>M2K</td>\n      <td>North York</td>\n      <td>Bayview Village</td>\n      <td>43.786947</td>\n      <td>-79.385975</td>\n    </tr>\n  </tbody>\n</table>\n</div>"
                    },
                    "metadata": {}
                }
            ]
        },
        {
            "metadata": {},
            "cell_type": "code",
            "source": "# Let's check our neighborhood and borough counts. Should still have 103 postal codes and 11 boroughs.\nprint('The dataframe has {} postal codes and {} boroughs.'.format(\n        len(neighborhoods_df['Postcode'].unique()),\n        len(neighborhoods_df['Borough'].unique())\n    )\n)",
            "execution_count": 89,
            "outputs": [
                {
                    "output_type": "stream",
                    "text": "The dataframe has 103 postal codes and 11 boroughs.\n",
                    "name": "stdout"
                }
            ]
        },
        {
            "metadata": {},
            "cell_type": "markdown",
            "source": "## Part 1.2 - Analysis"
        },
        {
            "metadata": {},
            "cell_type": "code",
            "source": "",
            "execution_count": null,
            "outputs": []
        },
        {
            "metadata": {},
            "cell_type": "code",
            "source": "",
            "execution_count": null,
            "outputs": []
        },
        {
            "metadata": {},
            "cell_type": "code",
            "source": "",
            "execution_count": null,
            "outputs": []
        },
        {
            "metadata": {},
            "cell_type": "code",
            "source": "",
            "execution_count": null,
            "outputs": []
        },
        {
            "metadata": {},
            "cell_type": "code",
            "source": "",
            "execution_count": null,
            "outputs": []
        },
        {
            "metadata": {},
            "cell_type": "code",
            "source": "",
            "execution_count": null,
            "outputs": []
        },
        {
            "metadata": {},
            "cell_type": "code",
            "source": "",
            "execution_count": null,
            "outputs": []
        },
        {
            "metadata": {},
            "cell_type": "code",
            "source": "",
            "execution_count": null,
            "outputs": []
        },
        {
            "metadata": {},
            "cell_type": "markdown",
            "source": "# 2. The Battle of Neighborhoods - Part 1"
        },
        {
            "metadata": {},
            "cell_type": "markdown",
            "source": "## Part 2.1 - "
        },
        {
            "metadata": {},
            "cell_type": "code",
            "source": "",
            "execution_count": null,
            "outputs": []
        },
        {
            "metadata": {},
            "cell_type": "markdown",
            "source": "## Part 2.2 - "
        },
        {
            "metadata": {},
            "cell_type": "code",
            "source": "",
            "execution_count": null,
            "outputs": []
        },
        {
            "metadata": {},
            "cell_type": "markdown",
            "source": "# 3. The Battle of Neighborhoods - Part 2"
        },
        {
            "metadata": {},
            "cell_type": "markdown",
            "source": "## Part 3.1 -"
        },
        {
            "metadata": {},
            "cell_type": "code",
            "source": "",
            "execution_count": null,
            "outputs": []
        },
        {
            "metadata": {},
            "cell_type": "markdown",
            "source": "## Part 3.2 -"
        },
        {
            "metadata": {},
            "cell_type": "code",
            "source": "",
            "execution_count": null,
            "outputs": []
        }
    ],
    "metadata": {
        "kernelspec": {
            "name": "python3",
            "display_name": "Python 3.6",
            "language": "python"
        },
        "language_info": {
            "name": "python",
            "version": "3.6.9",
            "mimetype": "text/x-python",
            "codemirror_mode": {
                "name": "ipython",
                "version": 3
            },
            "pygments_lexer": "ipython3",
            "nbconvert_exporter": "python",
            "file_extension": ".py"
        }
    },
    "nbformat": 4,
    "nbformat_minor": 1
}