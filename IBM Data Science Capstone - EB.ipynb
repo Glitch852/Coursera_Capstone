{
    "cells": [
        {
            "metadata": {
                "collapsed": true
            },
            "cell_type": "markdown",
            "source": "<a href=\"https://cognitiveclass.ai\"><img src = \"https://ibm.box.com/shared/static/9gegpsmnsoo25ikkbl4qzlvlyjbgxs5x.png\" width = 400 align=\"left\"> </a>\n\n<h1 align=center><font size = 5>IBM Data Science Capstone - Eugene Bible</font></h1>"
        },
        {
            "metadata": {},
            "cell_type": "markdown",
            "source": "## Introduction\n\nThis is the Jupyter Notebook to be used for the IBM Data Science Professional Certificate course by Coursera. \n\nIn this Jupyter notebook, neighborhoods in the city of Toronto will be explored, segmented, and clustered. \nFirst, the data will be scraped from the Wikipedia page and be wrangled, cleaned, and then read into a pandas dataframe in a structured format. Once structured, the neighborhoods in Toronoto will be explored and clustered.\n\nAuthor: Eugene Bible"
        },
        {
            "metadata": {},
            "cell_type": "markdown",
            "source": "## Table of Contents\n\n1. <a href=\"#item1\">Segmenting and Clustering Neighborhoods in Toronto</a>\n2. <a href=\"#item2\">The Battle of Neighborhoods - Part 1</a>  \n3. <a href=\"#item3\">The Battle of Neighborhoods - Part 2</a>  "
        },
        {
            "metadata": {},
            "cell_type": "markdown",
            "source": "This notebook will be used for the projects from the Coursera IBM Data Science Capstone course. "
        },
        {
            "metadata": {},
            "cell_type": "code",
            "source": "import pandas as pd\nimport numpy as np",
            "execution_count": 2,
            "outputs": []
        },
        {
            "metadata": {},
            "cell_type": "code",
            "source": "print(\"Hello Capstone Project Course!\")",
            "execution_count": 3,
            "outputs": [
                {
                    "output_type": "stream",
                    "text": "Hello Capstone Project Course!\n",
                    "name": "stdout"
                }
            ]
        }
    ],
    "metadata": {
        "kernelspec": {
            "name": "python3",
            "display_name": "Python 3.6",
            "language": "python"
        },
        "language_info": {
            "name": "python",
            "version": "3.6.9",
            "mimetype": "text/x-python",
            "codemirror_mode": {
                "name": "ipython",
                "version": 3
            },
            "pygments_lexer": "ipython3",
            "nbconvert_exporter": "python",
            "file_extension": ".py"
        }
    },
    "nbformat": 4,
    "nbformat_minor": 1
}