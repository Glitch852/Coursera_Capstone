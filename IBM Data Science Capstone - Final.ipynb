{
    "cells": [
        {
            "cell_type": "markdown",
            "metadata": {},
            "source": "<a href=\"https://cognitiveclass.ai\"><img src = \"https://ibm.box.com/shared/static/9gegpsmnsoo25ikkbl4qzlvlyjbgxs5x.png\" width = 400> </a>\n<br>\n<h1 align=center><font size = 5>IBM Data Science Capstone - Eugene Bible</font></h1>"
        },
        {
            "cell_type": "markdown",
            "metadata": {},
            "source": "# Introduction\n\nThis is the Jupyter Notebook to be used for the final project in the IBM Data Science Capstone course of the IBM Data Science Professional Certificate program by Coursera.\n\nIn this Jupyter notebook, neighborhoods in the city of Toronto will be explored, segmented, and clustered. \nFirst, the data will be scraped from the Wikipedia page and be wrangled, cleaned, and then read into a pandas dataframe in a structured format. Once structured, the neighborhoods in Toronoto will be explored and clustered.\n\nAuthor: Eugene Bible\n\nThis project link on IBM Watson Studio: https://jp-tok.dataplatform.cloud.ibm.com/analytics/notebooks/v2/cc31f32a-f0ad-43e4-a474-79f89ad0d697?projectid=0e052036-fd3e-4893-a04b-46349d1af3d9&context=analytics\n\nThis project link on Github: "
        },
        {
            "cell_type": "markdown",
            "metadata": {},
            "source": "## Table of Contents\n<div class=\"alert alert-block alert-info\" style=\"margin-top: 20px\">\n<font size = 3>\n\n[1. Segmenting and Clustering Neighborhoods in Toronto](#1.-Segmenting-and-Clustering-Neighborhoods-in-Toronto) <br>\n[2. The Battle of Neighborhoods - Part 1](#2.-The-Battle-of-Neighborhoods-\\--Part-1)<br>\n[3. The Battle of Neighborhoods - Part 2](#3.-The-Battle-of-Neighborhoods-\\--Part-2)\n\n\n</font>\n</div>"
        },
        {
            "cell_type": "markdown",
            "metadata": {},
            "source": "Import the necessary libraries:"
        },
        {
            "cell_type": "code",
            "execution_count": null,
            "metadata": {},
            "outputs": [],
            "source": "import urllib.request,urllib.parse,urllib.error # Library to parse websites\nfrom bs4 import BeautifulSoup # Library to handle web scraping\n\nimport numpy as np # library to handle data in a vectorized manner\n\nimport pandas as pd # library for data analsysis\npd.set_option('display.max_columns', None)\npd.set_option('display.max_rows', None)\n\n!conda install -c conda-forge geocoder --yes\nimport geocoder # import geocoder for getting lat/lon\n\nfrom geopy.geocoders import Nominatim # convert an address into latitude and longitude values\n\n!conda install -c conda-forge folium=0.5.0 --yes\nimport folium # map rendering library\n\nimport json # library to handle json files\n\nimport requests #library to handle requests\nfrom pandas.io.json import json_normalize #transform JSON file into pandas dataframe\n\n# Matplotlib and associated plotting modules\nimport matplotlib.cm as cm\nimport matplotlib.colors as colors\n\n# import k-means from clustering stage\nfrom sklearn.cluster import KMeans\n\nprint('Libraries imported.')"
        },
        {
            "cell_type": "markdown",
            "metadata": {},
            "source": "# 2. The Battle of Neighborhoods - Part 1"
        },
        {
            "cell_type": "code",
            "execution_count": null,
            "metadata": {},
            "outputs": [],
            "source": ""
        },
        {
            "cell_type": "markdown",
            "metadata": {},
            "source": "# 3. The Battle of Neighborhoods - Part 2"
        },
        {
            "cell_type": "code",
            "execution_count": null,
            "metadata": {},
            "outputs": [],
            "source": ""
        },
        {
            "cell_type": "code",
            "execution_count": null,
            "metadata": {},
            "outputs": [],
            "source": ""
        },
        {
            "cell_type": "code",
            "execution_count": null,
            "metadata": {},
            "outputs": [],
            "source": ""
        },
        {
            "cell_type": "code",
            "execution_count": null,
            "metadata": {},
            "outputs": [],
            "source": ""
        },
        {
            "cell_type": "code",
            "execution_count": null,
            "metadata": {},
            "outputs": [],
            "source": ""
        },
        {
            "cell_type": "code",
            "execution_count": null,
            "metadata": {
                "collapsed": true
            },
            "outputs": [],
            "source": ""
        }
    ],
    "metadata": {
        "kernelspec": {
            "display_name": "Python 3.6",
            "language": "python",
            "name": "python3"
        },
        "language_info": {
            "codemirror_mode": {
                "name": "ipython",
                "version": 3
            },
            "file_extension": ".py",
            "mimetype": "text/x-python",
            "name": "python",
            "nbconvert_exporter": "python",
            "pygments_lexer": "ipython3",
            "version": "3.6.9"
        }
    },
    "nbformat": 4,
    "nbformat_minor": 1
}